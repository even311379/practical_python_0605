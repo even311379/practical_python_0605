{
 "cells": [
  {
   "cell_type": "code",
   "execution_count": 1,
   "metadata": {
    "init_cell": true,
    "slideshow": {
     "slide_type": "skip"
    }
   },
   "outputs": [],
   "source": [
    "from graphviz import Digraph\n",
    "import os\n",
    "os.environ[\"PATH\"] += os.pathsep + 'C:/Program Files (x86)/Graphviz2.38/bin/'"
   ]
  },
  {
   "cell_type": "markdown",
   "metadata": {
    "slideshow": {
     "slide_type": "slide"
    }
   },
   "source": [
    "# Python 基礎教學(1)\n",
    "\n",
    "1. 數值運算\n",
    "2. list容器\n",
    "3. 字串處理\n",
    "4. 迴圈與流程控制\n",
    "5. 自訂函數"
   ]
  },
  {
   "cell_type": "markdown",
   "metadata": {
    "slideshow": {
     "slide_type": "slide"
    }
   },
   "source": [
    "## 1. 數值運算\n",
    "\n",
    "### 1-1 變數宣告"
   ]
  },
  {
   "cell_type": "markdown",
   "metadata": {
    "slideshow": {
     "slide_type": "fragment"
    }
   },
   "source": [
    "使用 **=** 建立變數或更新變數。"
   ]
  },
  {
   "cell_type": "code",
   "execution_count": null,
   "metadata": {
    "slideshow": {
     "slide_type": "fragment"
    }
   },
   "outputs": [],
   "source": [
    "# live coding area\n",
    "\n",
    "# declare a, b\n",
    "\n",
    "# overwrite declaration\n",
    "\n",
    "# trigger NameError"
   ]
  },
  {
   "cell_type": "code",
   "execution_count": 19,
   "metadata": {
    "slideshow": {
     "slide_type": "subslide"
    }
   },
   "outputs": [
    {
     "name": "stdout",
     "output_type": "stream",
     "text": [
      "30\n"
     ]
    }
   ],
   "source": [
    "a = 10\n",
    "b = 20\n",
    "print(a + b)"
   ]
  },
  {
   "cell_type": "code",
   "execution_count": 20,
   "metadata": {
    "slideshow": {
     "slide_type": "fragment"
    }
   },
   "outputs": [
    {
     "name": "stdout",
     "output_type": "stream",
     "text": [
      "70\n"
     ]
    }
   ],
   "source": [
    "a = 50\n",
    "print(a + b)"
   ]
  },
  {
   "cell_type": "code",
   "execution_count": 100,
   "metadata": {
    "slideshow": {
     "slide_type": "fragment"
    }
   },
   "outputs": [
    {
     "ename": "NameError",
     "evalue": "name 'c' is not defined",
     "output_type": "error",
     "traceback": [
      "\u001b[1;31m---------------------------------------------------------------------------\u001b[0m",
      "\u001b[1;31mNameError\u001b[0m                                 Traceback (most recent call last)",
      "\u001b[1;32m<ipython-input-100-2b66fd261ee5>\u001b[0m in \u001b[0;36m<module>\u001b[1;34m\u001b[0m\n\u001b[1;32m----> 1\u001b[1;33m \u001b[0mc\u001b[0m\u001b[1;33m\u001b[0m\u001b[1;33m\u001b[0m\u001b[0m\n\u001b[0m",
      "\u001b[1;31mNameError\u001b[0m: name 'c' is not defined"
     ]
    }
   ],
   "source": [
    "c"
   ]
  },
  {
   "cell_type": "markdown",
   "metadata": {
    "slideshow": {
     "slide_type": "slide"
    }
   },
   "source": [
    "### 1-2 數值的類型 "
   ]
  },
  {
   "cell_type": "markdown",
   "metadata": {
    "slideshow": {
     "slide_type": "fragment"
    }
   },
   "source": [
    "python為物件導向語言(object orientaion programming OOP)，在python的世界裡，所有的東西都是某種類型(class or type)的物件(object)。\n",
    "而各種類型的物件，有其對應的運算符號及方法。"
   ]
  },
  {
   "cell_type": "markdown",
   "metadata": {
    "slideshow": {
     "slide_type": "fragment"
    }
   },
   "source": [
    "數值類型有: **整數**、**浮點數**、複數。"
   ]
  },
  {
   "cell_type": "code",
   "execution_count": 16,
   "metadata": {
    "slideshow": {
     "slide_type": "fragment"
    }
   },
   "outputs": [],
   "source": [
    "# 1. declare and assign int, float 2. show type (variable inspector) 3. show class __init__"
   ]
  },
  {
   "cell_type": "code",
   "execution_count": 57,
   "metadata": {
    "slideshow": {
     "slide_type": "subslide"
    }
   },
   "outputs": [
    {
     "data": {
      "text/plain": [
       "float"
      ]
     },
     "execution_count": 57,
     "metadata": {},
     "output_type": "execute_result"
    }
   ],
   "source": [
    "a = 10.8\n",
    "type(a)"
   ]
  },
  {
   "cell_type": "code",
   "execution_count": 22,
   "metadata": {
    "slideshow": {
     "slide_type": "fragment"
    }
   },
   "outputs": [
    {
     "data": {
      "text/plain": [
       "float"
      ]
     },
     "execution_count": 22,
     "metadata": {},
     "output_type": "execute_result"
    }
   ],
   "source": [
    "a = 20.8\n",
    "type(a)"
   ]
  },
  {
   "cell_type": "code",
   "execution_count": 58,
   "metadata": {
    "slideshow": {
     "slide_type": "fragment"
    }
   },
   "outputs": [
    {
     "name": "stdout",
     "output_type": "stream",
     "text": [
      "20\n",
      "<class 'int'>\n"
     ]
    }
   ],
   "source": [
    "a = 20.8\n",
    "a = int(a)\n",
    "print(a)\n",
    "print(type(a))"
   ]
  },
  {
   "cell_type": "code",
   "execution_count": 59,
   "metadata": {
    "slideshow": {
     "slide_type": "fragment"
    }
   },
   "outputs": [],
   "source": [
    "b = '1.23456'"
   ]
  },
  {
   "cell_type": "code",
   "execution_count": 61,
   "metadata": {
    "slideshow": {
     "slide_type": "fragment"
    }
   },
   "outputs": [
    {
     "name": "stdout",
     "output_type": "stream",
     "text": [
      "1.213\n"
     ]
    }
   ],
   "source": [
    "b = float('1.213')\n",
    "print(b)"
   ]
  },
  {
   "cell_type": "markdown",
   "metadata": {
    "slideshow": {
     "slide_type": "slide"
    }
   },
   "source": [
    "## 1-3 數值運算"
   ]
  },
  {
   "cell_type": "code",
   "execution_count": null,
   "metadata": {
    "slideshow": {
     "slide_type": "fragment"
    }
   },
   "outputs": [],
   "source": [
    "# + - * /\n",
    "\n",
    "# **, //, %\n",
    "\n",
    "# () "
   ]
  },
  {
   "cell_type": "code",
   "execution_count": 62,
   "metadata": {
    "slideshow": {
     "slide_type": "subslide"
    }
   },
   "outputs": [
    {
     "name": "stdout",
     "output_type": "stream",
     "text": [
      "10\n",
      "30\n"
     ]
    }
   ],
   "source": [
    "a = 10 + 2 * 3 - 6\n",
    "b = (10 + 2) * 3 - 6\n",
    "print(a)\n",
    "print(b)"
   ]
  },
  {
   "cell_type": "code",
   "execution_count": 26,
   "metadata": {
    "slideshow": {
     "slide_type": "fragment"
    }
   },
   "outputs": [
    {
     "name": "stdout",
     "output_type": "stream",
     "text": [
      "1\n",
      "3\n",
      "1000\n",
      "3.1622776601683795\n"
     ]
    }
   ],
   "source": [
    "a = 10\n",
    "print(a % 3)\n",
    "print(a // 3)\n",
    "print(a ** 3)\n",
    "print(a ** 0.5)"
   ]
  },
  {
   "cell_type": "code",
   "execution_count": 30,
   "metadata": {
    "slideshow": {
     "slide_type": "fragment"
    }
   },
   "outputs": [
    {
     "name": "stdout",
     "output_type": "stream",
     "text": [
      "2.0\n",
      "10.0\n",
      "20.0\n",
      "10.0\n"
     ]
    }
   ],
   "source": [
    "a = 10\n",
    "a /= 5\n",
    "print(a)\n",
    "a *= 5\n",
    "print(a)\n",
    "a += 10\n",
    "print(a)\n",
    "a -= 10\n",
    "print(a)"
   ]
  },
  {
   "cell_type": "markdown",
   "metadata": {
    "slideshow": {
     "slide_type": "slide"
    }
   },
   "source": [
    "## 1-3 布林值\n",
    "\n",
    "真的  假的"
   ]
  },
  {
   "cell_type": "code",
   "execution_count": null,
   "metadata": {},
   "outputs": [],
   "source": [
    "# declare\n",
    "\n",
    "# bool operators\n",
    "\n",
    "# not"
   ]
  },
  {
   "cell_type": "code",
   "execution_count": 31,
   "metadata": {
    "slideshow": {
     "slide_type": "fragment"
    }
   },
   "outputs": [
    {
     "data": {
      "text/plain": [
       "bool"
      ]
     },
     "execution_count": 31,
     "metadata": {},
     "output_type": "execute_result"
    }
   ],
   "source": [
    "type(True)"
   ]
  },
  {
   "cell_type": "code",
   "execution_count": 35,
   "metadata": {
    "slideshow": {
     "slide_type": "fragment"
    }
   },
   "outputs": [
    {
     "name": "stdout",
     "output_type": "stream",
     "text": [
      "2\n",
      "True\n",
      "False\n"
     ]
    }
   ],
   "source": [
    "a = (True + True) * (False + True)\n",
    "print(a)\n",
    "print(bool(1))\n",
    "print(bool(10-10))"
   ]
  },
  {
   "cell_type": "code",
   "execution_count": 37,
   "metadata": {
    "slideshow": {
     "slide_type": "fragment"
    }
   },
   "outputs": [
    {
     "data": {
      "text/plain": [
       "False"
      ]
     },
     "execution_count": 37,
     "metadata": {},
     "output_type": "execute_result"
    }
   ],
   "source": [
    "not True"
   ]
  },
  {
   "cell_type": "markdown",
   "metadata": {
    "slideshow": {
     "slide_type": "slide"
    }
   },
   "source": [
    "## 1-4 關係判斷\n",
    "\n",
    "- <, >, ==, !=, <=, >="
   ]
  },
  {
   "cell_type": "code",
   "execution_count": null,
   "metadata": {
    "slideshow": {
     "slide_type": "fragment"
    }
   },
   "outputs": [],
   "source": [
    "# <, >, ==, !=, <=, >=\n"
   ]
  },
  {
   "cell_type": "code",
   "execution_count": null,
   "metadata": {
    "slideshow": {
     "slide_type": "subslide"
    }
   },
   "outputs": [],
   "source": [
    "a = 10\n",
    "b = 11\n",
    "c = 12\n",
    "print(a == b-1)\n",
    "print(c < b)"
   ]
  },
  {
   "cell_type": "code",
   "execution_count": 36,
   "metadata": {
    "slideshow": {
     "slide_type": "fragment"
    }
   },
   "outputs": [
    {
     "data": {
      "text/plain": [
       "True"
      ]
     },
     "execution_count": 36,
     "metadata": {},
     "output_type": "execute_result"
    }
   ],
   "source": [
    "a != 10"
   ]
  },
  {
   "cell_type": "code",
   "execution_count": 34,
   "metadata": {
    "slideshow": {
     "slide_type": "fragment"
    }
   },
   "outputs": [
    {
     "name": "stdout",
     "output_type": "stream",
     "text": [
      "True\n",
      "True\n"
     ]
    }
   ],
   "source": [
    "a = 10 < 12 <= 30\n",
    "b = 8\n",
    "c = 25 >= b == 8 >= 4 > 1\n",
    "print(a)\n",
    "print(c)"
   ]
  },
  {
   "cell_type": "markdown",
   "metadata": {
    "slideshow": {
     "slide_type": "slide"
    }
   },
   "source": [
    "## 1-5 邏輯判斷"
   ]
  },
  {
   "cell_type": "markdown",
   "metadata": {
    "slideshow": {
     "slide_type": "fragment"
    }
   },
   "source": [
    "#### 真偽表\n",
    "|AND|True|False|\n",
    "|:-----|-----:|-----:|\n",
    "|True|True|False|\n",
    "|False|False|False|\n",
    "\n",
    "\n",
    "|OR|True|False|\n",
    "|:-----|-----:|-----:|\n",
    "|True|True|True|\n",
    "|False|True|False|"
   ]
  },
  {
   "cell_type": "code",
   "execution_count": null,
   "metadata": {
    "slideshow": {
     "slide_type": "fragment"
    }
   },
   "outputs": [],
   "source": [
    "print(5 > 4 and -1 > -3)  #True and True\n",
    "print(not 5 > 4 or -1 > -3) # not True or True == False or True\n",
    "print(not 1 > 100 and not -100 > -1 ) # not False and not False == True and True"
   ]
  },
  {
   "cell_type": "markdown",
   "metadata": {
    "slideshow": {
     "slide_type": "subslide"
    }
   },
   "source": [
    "### 運算、比較、邏輯優先順序\n",
    "\n",
    "<table>\n",
    "    <thead>\n",
    "        <tr>\n",
    "        <th scope=\"col\">順位</th>\n",
    "        <th scope=\"col\">符號</th>\n",
    "        <th scope=\"col\">描述</th>\n",
    "        <th scope=\"col\">舉例</th>\n",
    "        <th scope=\"col\">答案</th>\n",
    "        </tr>\n",
    "    </thead>\n",
    "    <tbody>\n",
    "        <tr>\n",
    "            <th scope=\"row\">0</th>\n",
    "            <td>()</td>\n",
    "            <td>在()裡的最優先執行</td>\n",
    "            <td>(5 + 8) * 3</td>\n",
    "            <td>39</td>\n",
    "        </tr>\n",
    "        <tr>\n",
    "            <th scope=\"row\">1</th>\n",
    "            <td>**</td>\n",
    "            <td>指數運算，優於其他四則運算</td>\n",
    "            <td>2 ** 2 + 2 ** 3</td>\n",
    "            <td>12</td>\n",
    "        </tr>\n",
    "        <tr>\n",
    "            <th scope=\"row\">2</th>\n",
    "            <td>*, /, //, %</td>\n",
    "            <td>乘、除、整數除法、餘數，優於加減</td>\n",
    "            <td>5 + 8 * 3</td>\n",
    "            <td>29</td>\n",
    "        </tr>\n",
    "        <tr>\n",
    "            <th scope=\"row\">3</th>\n",
    "            <td>+,-</td>\n",
    "            <td>數值運算完後，才去進行關係判斷</td>\n",
    "            <td>5+8==13</td>\n",
    "            <td>True</td>\n",
    "        </tr>\n",
    "        <tr>\n",
    "            <th scope=\"row\">4</th>\n",
    "            <td>==,!=, &gt;, &lt;, &gt;=, &lt;=</td>\n",
    "            <td>比較符號左右數值的關係</td>\n",
    "            <td>5 + 8 == 13 and 4 * 3 == 12</td>\n",
    "            <td>True</td>\n",
    "        </tr>\n",
    "        <tr>\n",
    "        <th scope=\"row\">5</th>\n",
    "            <td>not</td>\n",
    "            <td>not True == False, not False == True</td>\n",
    "            <td>not False and True</td>\n",
    "            <td>True</td></tr>\n",
    "        <tr>\n",
    "            <th scope=\"row\">6</th>\n",
    "            <td>and</td>\n",
    "            <td>只有真真為真</td>\n",
    "            <td>not True or True and False</td>\n",
    "            <td>False</td>\n",
    "        </tr>\n",
    "        <tr>\n",
    "            <th scope=\"row\">7</th>\n",
    "            <td>or</td>\n",
    "            <td>只有假假為假</td>\n",
    "            <td>not (True or True) or True</td>\n",
    "            <td>True</td>\n",
    "        </tr>\n",
    "    </tbody>\n",
    "</table>"
   ]
  },
  {
   "cell_type": "markdown",
   "metadata": {
    "slideshow": {
     "slide_type": "slide"
    }
   },
   "source": [
    "##  Quiz 1\n",
    "\n",
    "1. 10的2.5次方，是否大於9的2.6次方再加10? <br>\n",
    "\n",
    "2. 20190605除上3347的餘數為多少? "
   ]
  },
  {
   "cell_type": "code",
   "execution_count": 114,
   "metadata": {
    "slideshow": {
     "slide_type": "fragment"
    }
   },
   "outputs": [
    {
     "name": "stdout",
     "output_type": "stream",
     "text": [
      "time up! \n"
     ]
    }
   ],
   "source": [
    "import utils\n",
    "utils.my_timer(60)"
   ]
  },
  {
   "cell_type": "code",
   "execution_count": null,
   "metadata": {
    "slideshow": {
     "slide_type": "fragment"
    }
   },
   "outputs": [],
   "source": []
  },
  {
   "cell_type": "markdown",
   "metadata": {
    "slideshow": {
     "slide_type": "slide"
    }
   },
   "source": [
    "# 2. list"
   ]
  },
  {
   "cell_type": "markdown",
   "metadata": {
    "slideshow": {
     "slide_type": "fragment"
    }
   },
   "source": [
    "## 2.1 建立list\n",
    "\n",
    "python裡最常見的容器，將一堆東西塞到一個東西底下。"
   ]
  },
  {
   "cell_type": "markdown",
   "metadata": {
    "slideshow": {
     "slide_type": "fragment"
    }
   },
   "source": [
    "以中括號表示list，裡面的物件以逗號區隔，可以放入任意數量與任意類型的物件。\n",
    "\n",
    "用len()檢查有幾個物件。"
   ]
  },
  {
   "cell_type": "code",
   "execution_count": null,
   "metadata": {
    "slideshow": {
     "slide_type": "fragment"
    }
   },
   "outputs": [],
   "source": [
    "# declare a list, and check type\n",
    "\n",
    "# put something different in a list\n",
    "\n",
    "# len()"
   ]
  },
  {
   "cell_type": "code",
   "execution_count": 65,
   "metadata": {
    "slideshow": {
     "slide_type": "subslide"
    }
   },
   "outputs": [
    {
     "name": "stdout",
     "output_type": "stream",
     "text": [
      "3\n",
      "4\n",
      "[[1, 2], [3, 4]]\n",
      "2\n"
     ]
    }
   ],
   "source": [
    "a = [1, 2, 3] #list內放入三個整數\n",
    "print(len(a))\n",
    "b = [1, 0.8, '你好', True] # list內放入整數、浮點數、字串、布林值\n",
    "print(len(b))\n",
    "\n",
    "c = [[1, 2], [3, 4]] # list內有兩個清單類型的物件\n",
    "print(c)\n",
    "print(len(c))"
   ]
  },
  {
   "cell_type": "markdown",
   "metadata": {
    "slideshow": {
     "slide_type": "slide"
    }
   },
   "source": [
    "## 2.2 index\n",
    "如果想要讀取或修改list內某位置的數值，則需使用index，從0開始。"
   ]
  },
  {
   "cell_type": "code",
   "execution_count": null,
   "metadata": {
    "slideshow": {
     "slide_type": "fragment"
    }
   },
   "outputs": [],
   "source": [
    "# positive and negative indices\n",
    "\n",
    "# invalid index\n",
    "\n",
    "# overwrite value by index"
   ]
  },
  {
   "cell_type": "code",
   "execution_count": 68,
   "metadata": {
    "slideshow": {
     "slide_type": "subslide"
    }
   },
   "outputs": [
    {
     "name": "stdout",
     "output_type": "stream",
     "text": [
      "1\n",
      "你好\n",
      "你好\n",
      "True\n"
     ]
    },
    {
     "ename": "TypeError",
     "evalue": "list indices must be integers or slices, not float",
     "output_type": "error",
     "traceback": [
      "\u001b[1;31m---------------------------------------------------------------------------\u001b[0m",
      "\u001b[1;31mTypeError\u001b[0m                                 Traceback (most recent call last)",
      "\u001b[1;32m<ipython-input-68-b08c89313e53>\u001b[0m in \u001b[0;36m<module>\u001b[1;34m\u001b[0m\n\u001b[0;32m      6\u001b[0m \u001b[0mprint\u001b[0m\u001b[1;33m(\u001b[0m\u001b[0mb\u001b[0m\u001b[1;33m[\u001b[0m\u001b[1;33m-\u001b[0m\u001b[1;36m2\u001b[0m\u001b[1;33m]\u001b[0m\u001b[1;33m)\u001b[0m \u001b[1;31m# b的倒數第二個物件\u001b[0m\u001b[1;33m\u001b[0m\u001b[1;33m\u001b[0m\u001b[0m\n\u001b[0;32m      7\u001b[0m \u001b[0mprint\u001b[0m\u001b[1;33m(\u001b[0m\u001b[0mb\u001b[0m\u001b[1;33m[\u001b[0m\u001b[1;33m-\u001b[0m\u001b[1;36m1\u001b[0m\u001b[1;33m]\u001b[0m\u001b[1;33m)\u001b[0m \u001b[1;31m# b的最後一個物件\u001b[0m\u001b[1;33m\u001b[0m\u001b[1;33m\u001b[0m\u001b[0m\n\u001b[1;32m----> 8\u001b[1;33m \u001b[0mb\u001b[0m\u001b[1;33m[\u001b[0m\u001b[1;36m1.2\u001b[0m\u001b[1;33m]\u001b[0m\u001b[1;33m\u001b[0m\u001b[1;33m\u001b[0m\u001b[0m\n\u001b[0m",
      "\u001b[1;31mTypeError\u001b[0m: list indices must be integers or slices, not float"
     ]
    }
   ],
   "source": [
    "a = [1, 2, 3]\n",
    "b = [1, 0.8, '你好', True]\n",
    "\n",
    "print(a[0]) # a的第一個物件\n",
    "print(b[2]) # b的第三個物件\n",
    "print(b[-2]) # b的倒數第二個物件\n",
    "print(b[-1]) # b的最後一個物件\n",
    "b[1.2]"
   ]
  },
  {
   "cell_type": "code",
   "execution_count": 78,
   "metadata": {
    "slideshow": {
     "slide_type": "fragment"
    }
   },
   "outputs": [
    {
     "name": "stdout",
     "output_type": "stream",
     "text": [
      "[1, 2, 8]\n"
     ]
    }
   ],
   "source": [
    "a = [1,2,3]\n",
    "a[2] = 8\n",
    "print(a)"
   ]
  },
  {
   "cell_type": "markdown",
   "metadata": {
    "slideshow": {
     "slide_type": "slide"
    }
   },
   "source": [
    "## 2.3 list的切割\n",
    "\n",
    "使用list的index和符號 **:**，切出較短的list。 <br>\n",
    "a[ i : j ] 表示切出a從index >= i 到 index < j。<br>\n",
    "a[ i : j : k ] 表示從index >= i 到 index < j，每隔K個。"
   ]
  },
  {
   "cell_type": "code",
   "execution_count": null,
   "metadata": {
    "slideshow": {
     "slide_type": "fragment"
    }
   },
   "outputs": [],
   "source": [
    "# create list range\n",
    "\n",
    "# demo [i:j] with posive and negative indice\n",
    "\n",
    "# demo [i:j:k] with posive and negative indice"
   ]
  },
  {
   "cell_type": "code",
   "execution_count": null,
   "metadata": {
    "slideshow": {
     "slide_type": "subslide"
    }
   },
   "outputs": [],
   "source": [
    "a = list(range(20)) # 快速生出包含0~19整數的list\n",
    "print(a)\n",
    "print(a[5:]) # 切出 5 <= index\n",
    "print(a[:5]) # 切出 index < 5\n",
    "print(a[3:10]) # 切出包含 3 <= index < 10的物件\n",
    "print(a[3:-2]) # 切出包含 3 <= index < len(a)-2 的物件"
   ]
  },
  {
   "cell_type": "code",
   "execution_count": null,
   "metadata": {
    "slideshow": {
     "slide_type": "fragment"
    }
   },
   "outputs": [],
   "source": [
    "a = list(range(20))\n",
    "print(a[::5])  # 從頭到尾，每隔五個切出來\n",
    "print(a[2:10:2])  # 從2 <= index < 10中，每隔2個切出來\n",
    "print(a[::-1])  # 從尾到頭，也就是清單內物件的順序完全反過來\n",
    "print(a[::-5])  # 從尾到頭，每隔五個切出來\n",
    "print(a[10:2:-1])  # 以相反的順序，將2 < index <= 10的物件切出來\n",
    "print(a[10:2:-2])  # 以相反的順序，從2 < index <= 10中，每隔2個切出來\n",
    "print(a[2:10:-2])  # 這樣會切不出東西喔"
   ]
  },
  {
   "cell_type": "markdown",
   "metadata": {
    "slideshow": {
     "slide_type": "slide"
    }
   },
   "source": [
    "## 2.4 list的方法與運算子"
   ]
  },
  {
   "cell_type": "markdown",
   "metadata": {
    "slideshow": {
     "slide_type": "fragment"
    }
   },
   "source": [
    "python為物件導向語言(object orientaion programming OOP)，在python的世界裡，所有的東西都是某種類型(class or type)的物件(object)。\n",
    "\n",
    "而各種類型的物件，有其對應的運算符號、方法、特性。\n",
    "\n",
    "使用dir()來查看有哪些。\n",
    "\n",
    "使用help()，查看說明。"
   ]
  },
  {
   "cell_type": "code",
   "execution_count": null,
   "metadata": {
    "slideshow": {
     "slide_type": "fragment"
    }
   },
   "outputs": [],
   "source": [
    "a = list(range(10))\n",
    "dir(a)"
   ]
  },
  {
   "cell_type": "code",
   "execution_count": null,
   "metadata": {
    "slideshow": {
     "slide_type": "slide"
    }
   },
   "outputs": [],
   "source": [
    "# demo list append, insert, remove, pop"
   ]
  },
  {
   "cell_type": "code",
   "execution_count": null,
   "metadata": {
    "slideshow": {
     "slide_type": "subslide"
    }
   },
   "outputs": [],
   "source": [
    "a = list(range(10))\n",
    "a.append(999)\n",
    "print(a)\n",
    "a.insert(3,'你好')\n",
    "print(a)\n",
    "a.remove('你好')\n",
    "print(a)"
   ]
  },
  {
   "cell_type": "code",
   "execution_count": null,
   "metadata": {
    "slideshow": {
     "slide_type": "slide"
    }
   },
   "outputs": [],
   "source": [
    "# list operator + *\n",
    "\n"
   ]
  },
  {
   "cell_type": "markdown",
   "metadata": {
    "slideshow": {
     "slide_type": "slide"
    }
   },
   "source": [
    "## 2.5 list的複製或複寫"
   ]
  },
  {
   "cell_type": "code",
   "execution_count": null,
   "metadata": {
    "slideshow": {
     "slide_type": "fragment"
    }
   },
   "outputs": [],
   "source": [
    "a = [1,2,3]\n",
    "b = a\n",
    "b[0] = 200\n",
    "a"
   ]
  },
  {
   "cell_type": "code",
   "execution_count": null,
   "metadata": {
    "slideshow": {
     "slide_type": "fragment"
    }
   },
   "outputs": [],
   "source": [
    "a = [1,2,3]\n",
    "b = a.copy()\n",
    "b[0] = 200\n",
    "a"
   ]
  },
  {
   "cell_type": "markdown",
   "metadata": {
    "slideshow": {
     "slide_type": "slide"
    }
   },
   "source": [
    "## Quiz 2\n",
    "\n",
    "取0~10000之間，231的倍數，並由大到小排列。\n",
    "\n",
    "hint: list(range(10000))，再使用list的切割。"
   ]
  },
  {
   "cell_type": "code",
   "execution_count": null,
   "metadata": {
    "slideshow": {
     "slide_type": "fragment"
    }
   },
   "outputs": [],
   "source": [
    "utils.timers(60)"
   ]
  },
  {
   "cell_type": "markdown",
   "metadata": {
    "slideshow": {
     "slide_type": "slide"
    }
   },
   "source": [
    "# 3. 字串\n",
    "\n",
    "顧名思義，一串字元組成字串。"
   ]
  },
  {
   "cell_type": "markdown",
   "metadata": {
    "slideshow": {
     "slide_type": "fragment"
    }
   },
   "source": [
    "## 3.1 建立字串"
   ]
  },
  {
   "cell_type": "code",
   "execution_count": null,
   "metadata": {
    "slideshow": {
     "slide_type": "fragment"
    }
   },
   "outputs": [],
   "source": [
    "# declare str with '' or \"\"\n",
    "\n",
    "# convert to str"
   ]
  },
  {
   "cell_type": "code",
   "execution_count": 1,
   "metadata": {
    "slideshow": {
     "slide_type": "subslide"
    }
   },
   "outputs": [
    {
     "data": {
      "text/plain": [
       "str"
      ]
     },
     "execution_count": 1,
     "metadata": {},
     "output_type": "execute_result"
    }
   ],
   "source": [
    "a = 'hello world'\n",
    "type(a)\n",
    "str([1,2,3])"
   ]
  },
  {
   "cell_type": "markdown",
   "metadata": {
    "slideshow": {
     "slide_type": "slide"
    }
   },
   "source": [
    "## 3.2 字串的切割與運算\n",
    "\n",
    "可以完全套用list的切割與運算子。"
   ]
  },
  {
   "cell_type": "code",
   "execution_count": null,
   "metadata": {
    "slideshow": {
     "slide_type": "fragment"
    }
   },
   "outputs": [],
   "source": [
    "# 我堅強復國 倒過來\n",
    "\n",
    "# + , *"
   ]
  },
  {
   "cell_type": "code",
   "execution_count": 11,
   "metadata": {
    "slideshow": {
     "slide_type": "subslide"
    }
   },
   "outputs": [
    {
     "name": "stdout",
     "output_type": "stream",
     "text": [
      "國復強堅我\n"
     ]
    }
   ],
   "source": [
    "a = '我堅強復國'\n",
    "print(a[::-1])\n",
    "a = '大家好'\n",
    "print((a + '~') * 10)\n",
    "print(a + '~'*100)"
   ]
  },
  {
   "cell_type": "markdown",
   "metadata": {
    "slideshow": {
     "slide_type": "slide"
    }
   },
   "source": [
    "## 3.3 字串的常用方法"
   ]
  },
  {
   "cell_type": "code",
   "execution_count": null,
   "metadata": {
    "slideshow": {
     "slide_type": "fragment"
    }
   },
   "outputs": [],
   "source": [
    "# This is a pen. split, upper, lower, center, replace, startswith, endswith"
   ]
  },
  {
   "cell_type": "code",
   "execution_count": 22,
   "metadata": {
    "slideshow": {
     "slide_type": "subslide"
    }
   },
   "outputs": [
    {
     "name": "stdout",
     "output_type": "stream",
     "text": [
      "['This', 'is', 'a', 'pen.']\n",
      "THIS IS A PEN.\n",
      "-------------------------------------------This is a pen.-------------------------------------------\n",
      "This空白is空白a空白pen.\n",
      "this is a pen.\n",
      "True\n",
      "True\n"
     ]
    }
   ],
   "source": [
    "s = 'This is a pen.'\n",
    "print(s.split(' '))\n",
    "print(s.upper())\n",
    "print(s.center(100,'-'))\n",
    "print(s.replace(' ','空白'))\n",
    "print(s.lower())\n",
    "print(s.startswith('This'))\n",
    "print(s.endswith('pen.'))"
   ]
  },
  {
   "cell_type": "markdown",
   "metadata": {
    "slideshow": {
     "slide_type": "slide"
    }
   },
   "source": [
    "## 3.4 格式化字串\n",
    "\n",
    "快速地將變數放到字串中"
   ]
  },
  {
   "cell_type": "code",
   "execution_count": null,
   "metadata": {
    "slideshow": {
     "slide_type": "fragment"
    }
   },
   "outputs": [],
   "source": [
    "# without format\n",
    "\n",
    "# with format"
   ]
  },
  {
   "cell_type": "code",
   "execution_count": 25,
   "metadata": {
    "slideshow": {
     "slide_type": "subslide"
    }
   },
   "outputs": [
    {
     "name": "stdout",
     "output_type": "stream",
     "text": [
      "今天是6月5日\n",
      "今天是6月5日\n"
     ]
    }
   ],
   "source": [
    "month = 6\n",
    "day = 5\n",
    "print('今天是'+str(month)+'月'+str(day)+'日')\n",
    "print(f'今天是{month}月{day}日')"
   ]
  },
  {
   "cell_type": "code",
   "execution_count": 30,
   "metadata": {
    "slideshow": {
     "slide_type": "fragment"
    }
   },
   "outputs": [
    {
     "name": "stdout",
     "output_type": "stream",
     "text": [
      "美美國小第二學期成績單\n"
     ]
    }
   ],
   "source": [
    "school_name = '美美國小'\n",
    "semaster = '第二學期'\n",
    "\n",
    "title = f'{school_name}{semaster}成績單'\n",
    "print(title)"
   ]
  },
  {
   "cell_type": "markdown",
   "metadata": {
    "slideshow": {
     "slide_type": "slide"
    }
   },
   "source": [
    "## Quiz 3.1\n",
    "\n",
    "標題:\n",
    "\n",
    "    A Fairy Song by William Shakespeare\n",
    "\n",
    "內容:\n",
    "\n",
    "    Over hill, over dale, \n",
    "    Thorough bush, thorough brier, \n",
    "    Over park, over pale, \n",
    "    Thorough flood, thorough fire! \n",
    "    I do wander everywhere, \n",
    "    Swifter than the moon's sphere; \n",
    "    And I serve the Fairy Queen, \n",
    "    To dew her orbs upon the green; \n",
    "    The cowslips tall her pensioners be; \n",
    "    In their gold coats spots you see; \n",
    "    Those be rubies, fairy favours; \n",
    "    In those freckles live their savours; \n",
    "    I must go seek some dewdrops here, \n",
    "    And hang a pearl in every cowslip's ear.\n",
    "    \n",
    "請問上面這首詩有幾個英文單字?"
   ]
  },
  {
   "cell_type": "code",
   "execution_count": 122,
   "metadata": {
    "slideshow": {
     "slide_type": "subslide"
    }
   },
   "outputs": [],
   "source": [
    "poem =  '''\n",
    "Over hill, over dale, \n",
    "Thorough bush, thorough brier, \n",
    "Over park, over pale, \n",
    "Thorough flood, thorough fire! \n",
    "I do wander everywhere, \n",
    "Swifter than the moon's sphere; \n",
    "And I serve the Fairy Queen, \n",
    "To dew her orbs upon the green; \n",
    "The cowslips tall her pensioners be; \n",
    "In their gold coats spots you see; \n",
    "Those be rubies, fairy favours; \n",
    "In those freckles live their savours; \n",
    "I must go seek some dewdrops here, \n",
    "And hang a pearl in every cowslip's ear.\n",
    "'''"
   ]
  },
  {
   "cell_type": "code",
   "execution_count": 123,
   "metadata": {
    "slideshow": {
     "slide_type": "fragment"
    }
   },
   "outputs": [
    {
     "name": "stdout",
     "output_type": "stream",
     "text": [
      "time up! \n"
     ]
    }
   ],
   "source": [
    "utils.my_timer(60)"
   ]
  },
  {
   "cell_type": "markdown",
   "metadata": {
    "slideshow": {
     "slide_type": "slide"
    }
   },
   "source": [
    "# 4. 迴圈與流程控制"
   ]
  },
  {
   "cell_type": "markdown",
   "metadata": {
    "slideshow": {
     "slide_type": "fragment"
    }
   },
   "source": [
    "## 4.1 for迴圈\n",
    "\n",
    "讓一段程式碼重複執行。<br>\n",
    "將list(或其他iterable)內的value以XX表示，然後依需求去使用。\n",
    "\n",
    "**要加縮排**"
   ]
  },
  {
   "cell_type": "code",
   "execution_count": 135,
   "metadata": {
    "slideshow": {
     "slide_type": "fragment"
    }
   },
   "outputs": [],
   "source": [
    "# simple for\n",
    "\n",
    "# for in for\n",
    "\n",
    "# for by index"
   ]
  },
  {
   "cell_type": "code",
   "execution_count": null,
   "metadata": {
    "slideshow": {
     "slide_type": "subslide"
    }
   },
   "outputs": [],
   "source": [
    "mylist = ['你好', '我好', '大家好']\n",
    "\n",
    "# 將mylist內的每個元素以i來表示，可以改用任意名稱，最後面要加上:\n",
    "for i in mylist: \n",
    "    print(i) # 一定要加縮排，不然會碰到indentation error"
   ]
  },
  {
   "cell_type": "code",
   "execution_count": null,
   "metadata": {
    "slideshow": {
     "slide_type": "fragment"
    }
   },
   "outputs": [],
   "source": [
    "mylist = ['你好', '我好', '大家好']\n",
    "\n",
    "for item in mylist:\n",
    "    print('哈囉') \n",
    "    for char in item: # 在for裡面在放一個for，因為字串也是iterable，也是可以直接放進迴圈裡\n",
    "        print(char) # 此時需再加上一個層級的縮排以區隔"
   ]
  },
  {
   "cell_type": "code",
   "execution_count": null,
   "metadata": {
    "slideshow": {
     "slide_type": "fragment"
    }
   },
   "outputs": [],
   "source": [
    "for i in range(3):\n",
    "    print(i)"
   ]
  },
  {
   "cell_type": "markdown",
   "metadata": {
    "slideshow": {
     "slide_type": "slide"
    }
   },
   "source": [
    "## 4.2 while迴圈\n",
    "\n",
    "當條件為真，則做以下事情。"
   ]
  },
  {
   "cell_type": "code",
   "execution_count": null,
   "metadata": {
    "slideshow": {
     "slide_type": "fragment"
    }
   },
   "outputs": [],
   "source": [
    "# 無限迴圈\n",
    "\n",
    "\n",
    "\n",
    "\n",
    "# 讓條件中斷\n",
    "\n",
    "\n",
    "\n"
   ]
  },
  {
   "cell_type": "markdown",
   "metadata": {
    "slideshow": {
     "slide_type": "slide"
    }
   },
   "source": [
    "## 4.3 if 流程控制\n",
    "\n",
    "if 真，則XXX，否則OOO"
   ]
  },
  {
   "cell_type": "code",
   "execution_count": 17,
   "metadata": {
    "slideshow": {
     "slide_type": "fragment"
    }
   },
   "outputs": [],
   "source": [
    "# if else elif else\n",
    "\n",
    "\n",
    "\n",
    "\n",
    "\n",
    "\n",
    "\n",
    "\n",
    "\n",
    "\n",
    "\n",
    "\n"
   ]
  },
  {
   "cell_type": "code",
   "execution_count": null,
   "metadata": {
    "slideshow": {
     "slide_type": "subslide"
    }
   },
   "outputs": [],
   "source": [
    "today = '禮拜三'\n",
    "\n",
    "if today in ['禮拜六', '禮拜天']:\n",
    "    print('  假日!出門玩好開心~~')\n",
    "elif today == '禮拜三':\n",
    "    print('  今天要爬山~')\n",
    "elif today == '禮拜五':\n",
    "    print('  今天要跳舞~')\n",
    "else:\n",
    "    print('  工作日!不能出門玩~~嗚嗚')"
   ]
  },
  {
   "cell_type": "markdown",
   "metadata": {
    "slideshow": {
     "slide_type": "slide"
    }
   },
   "source": [
    "## 4.4 控制迴圈\n",
    "\n",
    "pass, continue, break, ..., else"
   ]
  },
  {
   "cell_type": "code",
   "execution_count": 18,
   "metadata": {
    "slideshow": {
     "slide_type": "fragment"
    }
   },
   "outputs": [],
   "source": [
    "# trigger Zero Division error\n",
    "# pass\n",
    "\n",
    "\n",
    "# continue\n",
    "\n",
    "\n",
    "# break\n",
    "\n",
    "\n",
    "# else\n",
    "\n"
   ]
  },
  {
   "cell_type": "code",
   "execution_count": 130,
   "metadata": {
    "slideshow": {
     "slide_type": "subslide"
    }
   },
   "outputs": [
    {
     "name": "stdout",
     "output_type": "stream",
     "text": [
      "-0.2 -0.25 -0.3333333333333333 -0.5 -1.0 "
     ]
    },
    {
     "ename": "ZeroDivisionError",
     "evalue": "division by zero",
     "output_type": "error",
     "traceback": [
      "\u001b[1;31m---------------------------------------------------------------------------\u001b[0m",
      "\u001b[1;31mZeroDivisionError\u001b[0m                         Traceback (most recent call last)",
      "\u001b[1;32m<ipython-input-130-02bd43a92ac9>\u001b[0m in \u001b[0;36m<module>\u001b[1;34m\u001b[0m\n\u001b[0;32m      1\u001b[0m \u001b[1;32mfor\u001b[0m \u001b[0mi\u001b[0m \u001b[1;32min\u001b[0m \u001b[0mrange\u001b[0m\u001b[1;33m(\u001b[0m\u001b[1;33m-\u001b[0m\u001b[1;36m5\u001b[0m\u001b[1;33m,\u001b[0m\u001b[1;36m5\u001b[0m\u001b[1;33m)\u001b[0m\u001b[1;33m:\u001b[0m\u001b[1;33m\u001b[0m\u001b[1;33m\u001b[0m\u001b[0m\n\u001b[1;32m----> 2\u001b[1;33m     \u001b[0mprint\u001b[0m\u001b[1;33m(\u001b[0m\u001b[1;36m1\u001b[0m\u001b[1;33m/\u001b[0m\u001b[0mi\u001b[0m\u001b[1;33m,\u001b[0m \u001b[0mend\u001b[0m\u001b[1;33m=\u001b[0m\u001b[1;34m' '\u001b[0m\u001b[1;33m)\u001b[0m\u001b[1;33m\u001b[0m\u001b[1;33m\u001b[0m\u001b[0m\n\u001b[0m",
      "\u001b[1;31mZeroDivisionError\u001b[0m: division by zero"
     ]
    }
   ],
   "source": [
    "for i in range(-5,5):\n",
    "    print(1/i, end=' ')"
   ]
  },
  {
   "cell_type": "code",
   "execution_count": 129,
   "metadata": {
    "slideshow": {
     "slide_type": "fragment"
    }
   },
   "outputs": [
    {
     "name": "stdout",
     "output_type": "stream",
     "text": [
      "-0.2 -0.25 -0.3333333333333333 -0.5 -1.0 1.0 0.5 0.3333333333333333 0.25 "
     ]
    }
   ],
   "source": [
    "for i in range(-5,5):\n",
    "    if i == 0:\n",
    "        pass\n",
    "    else:\n",
    "        print(1/i, end=' ')"
   ]
  },
  {
   "cell_type": "code",
   "execution_count": 128,
   "metadata": {
    "slideshow": {
     "slide_type": "fragment"
    }
   },
   "outputs": [
    {
     "name": "stdout",
     "output_type": "stream",
     "text": [
      "-0.2 -0.25 -0.3333333333333333 -0.5 -1.0 1.0 0.5 0.3333333333333333 0.25 "
     ]
    }
   ],
   "source": [
    "for i in range(-5,5):\n",
    "    if i == 0:\n",
    "        continue\n",
    "    print(1/i, end=' ')"
   ]
  },
  {
   "cell_type": "code",
   "execution_count": 131,
   "metadata": {
    "slideshow": {
     "slide_type": "fragment"
    }
   },
   "outputs": [
    {
     "name": "stdout",
     "output_type": "stream",
     "text": [
      "-0.2 -0.25 -0.3333333333333333 -0.5 -1.0 "
     ]
    }
   ],
   "source": [
    "for i in range(-5,5):\n",
    "    if i == 0:\n",
    "        break\n",
    "    print(1/i, end=' ')"
   ]
  },
  {
   "cell_type": "code",
   "execution_count": null,
   "metadata": {
    "slideshow": {
     "slide_type": "fragment"
    }
   },
   "outputs": [],
   "source": [
    "for i in range(-5,5):\n",
    "    if i == 0:\n",
    "        break\n",
    "else:\n",
    "    print(1/i, end=' ')"
   ]
  },
  {
   "cell_type": "markdown",
   "metadata": {
    "slideshow": {
     "slide_type": "slide"
    }
   },
   "source": [
    "## 4.5 List Comprehesion\n",
    "將迴圈放在list裡面"
   ]
  },
  {
   "cell_type": "code",
   "execution_count": 23,
   "metadata": {
    "slideshow": {
     "slide_type": "fragment"
    }
   },
   "outputs": [
    {
     "data": {
      "text/plain": [
       "[False, False, False, False, False, False, True, True, True, True]"
      ]
     },
     "execution_count": 23,
     "metadata": {},
     "output_type": "execute_result"
    }
   ],
   "source": [
    "# normal for loop\n",
    "# for i in 'today is nice':\n",
    "#     print(i)\n",
    "# list comprehension\n",
    "s = 'today is nice'\n",
    "\n",
    "[i for i in s]\n",
    "# list comprehension + if else in iterable\n",
    "a = list(range(-5,5))\n",
    "\n",
    "[i for i in a if i > 0]\n",
    "# list comprehension + if else in return\n",
    "\n",
    "[True if i > 0 else False for i in a]"
   ]
  },
  {
   "cell_type": "code",
   "execution_count": null,
   "metadata": {
    "slideshow": {
     "slide_type": "subslide"
    }
   },
   "outputs": [],
   "source": [
    "a = []\n",
    "for i in range(10):\n",
    "    if i % 2 == 0:\n",
    "        a.append(i)\n",
    "print(a)\n",
    "a = [i for i in range(10)]\n",
    "print(a)\n",
    "a = [i for i in range(10) if i % 2 == 0]\n",
    "\n",
    "a = ['odd' if i%2 == 1 else 'even' for i in range(10)]"
   ]
  },
  {
   "cell_type": "code",
   "execution_count": 133,
   "metadata": {
    "slideshow": {
     "slide_type": "fragment"
    }
   },
   "outputs": [
    {
     "data": {
      "text/plain": [
       "[0, 2, 4, 6, 8]"
      ]
     },
     "execution_count": 133,
     "metadata": {},
     "output_type": "execute_result"
    }
   ],
   "source": [
    "a = [i for i in range(10) if i % 2 == 0]"
   ]
  },
  {
   "cell_type": "markdown",
   "metadata": {
    "slideshow": {
     "slide_type": "slide"
    }
   },
   "source": [
    "## 4.6 enumerate, zip\n",
    "\n",
    "當你需要對多個list跑迴圈時，使用zip。 <br>\n",
    "當你同時需要一個list的index及value，使用enumerate。"
   ]
  },
  {
   "cell_type": "code",
   "execution_count": 28,
   "metadata": {
    "slideshow": {
     "slide_type": "fragment"
    }
   },
   "outputs": [
    {
     "name": "stdout",
     "output_type": "stream",
     "text": [
      "pen的中文是筆\n",
      "book的中文是書\n"
     ]
    }
   ],
   "source": [
    "# enumerate\n",
    "# s = 'This is a pen.'.split(' ')\n",
    "# for i, c in enumerate(s):\n",
    "#     print(i, c)\n",
    "# zip\n",
    "s1 = ['pen','book']\n",
    "s2 = ['筆','書']\n",
    "for i,j in zip(s1,s2):\n",
    "    print(f'{i}的中文是{j}')\n",
    "\n"
   ]
  },
  {
   "cell_type": "code",
   "execution_count": null,
   "metadata": {
    "slideshow": {
     "slide_type": "subslide"
    }
   },
   "outputs": [],
   "source": [
    "weekday = ['禮拜一', '禮拜二', '禮拜三', '禮拜四', '禮拜五', '禮拜六', '禮拜天']\n",
    "weekday_en = ['Monday', 'Tuesday', 'Wednesday', 'Thursday', 'Friday', 'Saturday', 'Sunday']\n",
    "\n",
    "print('英文小教室:')\n",
    "for day, day_en in zip(weekday, weekday_en):\n",
    "    print(f'  {day}的英文是{day_en}唷!')"
   ]
  },
  {
   "cell_type": "code",
   "execution_count": null,
   "metadata": {
    "slideshow": {
     "slide_type": "fragment"
    }
   },
   "outputs": [],
   "source": [
    "weekday = ['禮拜一', '禮拜二', '禮拜三', '禮拜四', '禮拜五', '禮拜六', '禮拜天']\n",
    "\n",
    "for i, day in enumerate(weekday):\n",
    "    print(i)\n",
    "    print(day)"
   ]
  },
  {
   "cell_type": "markdown",
   "metadata": {
    "slideshow": {
     "slide_type": "slide"
    }
   },
   "source": [
    "## Demo 找質數\n",
    "\n",
    "找出2到N之間的所有質數。<br>\n",
    "質數，除了1和自己以外，沒有數字能整除。<br>\n",
    "使用兩個迴圈，檢查是否能被整除。"
   ]
  },
  {
   "cell_type": "code",
   "execution_count": null,
   "metadata": {
    "slideshow": {
     "slide_type": "fragment"
    }
   },
   "outputs": [],
   "source": [
    "\n",
    "\n",
    "\n",
    "\n",
    "\n",
    "\n",
    "\n",
    "\n",
    "\n"
   ]
  },
  {
   "cell_type": "code",
   "execution_count": 164,
   "metadata": {
    "slideshow": {
     "slide_type": "subslide"
    }
   },
   "outputs": [
    {
     "data": {
      "text/plain": [
       "[2, 3, 5, 7, 11, 13, 17, 19, 23, 29, 31, 37, 41, 43, 47]"
      ]
     },
     "execution_count": 164,
     "metadata": {},
     "output_type": "execute_result"
    }
   ],
   "source": [
    "N = 50\n",
    "prime = []\n",
    "for i in range(2, N):\n",
    "    for j in range(2,i):\n",
    "        if i%j == 0:\n",
    "            break\n",
    "    else:\n",
    "        prime.append(i)\n",
    "prime        "
   ]
  },
  {
   "cell_type": "markdown",
   "metadata": {
    "slideshow": {
     "slide_type": "slide"
    }
   },
   "source": [
    "## Quiz\n",
    "\n",
    "有一份微生物物種名錄清單，其中有些物種的種名為nan，請你將它改成sp.。<br>\n",
    "我需要以此產生圖表的標題，請試著產生fig {X}. The Abundance of {species name}，這樣的一堆文字。<br>\n",
    "X: 數字，從1開始，名錄中的第一個物種要變成圖1。<br>\n",
    "species name: 修正過後的物種學名。<br>"
   ]
  },
  {
   "cell_type": "code",
   "execution_count": 136,
   "metadata": {
    "collapsed": true,
    "slideshow": {
     "slide_type": "fragment"
    }
   },
   "outputs": [
    {
     "data": {
      "text/plain": [
       "['Bacteroides vulgatus',\n",
       " 'Bacteroides plebeius',\n",
       " 'Escherichia/Shigella nan',\n",
       " 'Bacteroides dorei',\n",
       " 'Bacteroides vulgatus',\n",
       " 'Bacteroides coprocola',\n",
       " 'Bacteroides uniformis',\n",
       " 'Prevotella_9 nan',\n",
       " 'Bacteroides nan',\n",
       " 'Phascolarctobacterium faecium',\n",
       " 'Bacteroides thetaiotaomicron',\n",
       " 'Faecalibacterium prausnitzii',\n",
       " 'Prevotella_9 nan',\n",
       " 'Bacteroides coprocola',\n",
       " 'Bacteroides xylanisolvens',\n",
       " 'Bacteroides nan',\n",
       " 'Bacteroides stercoris',\n",
       " 'Bacteroides uniformis',\n",
       " 'Parabacteroides merdae',\n",
       " 'Alistipes putredinis',\n",
       " 'Bacteroides plebeius',\n",
       " 'Ruminococcaceae_ge nan',\n",
       " 'Faecalibacterium CM04-06',\n",
       " 'Sutterella wadsworthensis',\n",
       " 'Prevotella_2 nan',\n",
       " 'Bacteroides fragilis',\n",
       " 'Bacteroides vulgatus',\n",
       " 'Lachnospiraceae_NK4A136_group nan',\n",
       " 'Alloprevotella nan',\n",
       " 'Faecalibacterium nan',\n",
       " 'Bacteroides massiliensis',\n",
       " 'Bacteroides nan',\n",
       " 'Prevotella_9 nan',\n",
       " 'Fusobacterium mortiferum',\n",
       " 'Sutterella wadsworthensis',\n",
       " 'Ruminococcaceae_UCG-002 bacterium',\n",
       " 'Bacteroides caccae',\n",
       " 'Bacteroides uniformis',\n",
       " 'Bacteroides massiliensis',\n",
       " 'Prevotella_9 nan',\n",
       " 'Bacteroides cellulosilyticus',\n",
       " 'Prevotella_9 nan',\n",
       " 'Bacteroides nan',\n",
       " 'Lachnospiraceae_ge nan',\n",
       " 'Lachnoclostridium nan',\n",
       " 'Sutterella nan',\n",
       " 'Agathobacter rectalis',\n",
       " 'Bacteroides caccae',\n",
       " 'Lachnospira nan',\n",
       " 'Parabacteroides distasonis']"
      ]
     },
     "execution_count": 136,
     "metadata": {},
     "output_type": "execute_result"
    }
   ],
   "source": [
    "microbio_names = ['Bacteroides vulgatus', 'Bacteroides plebeius', 'Escherichia/Shigella nan', 'Bacteroides dorei', 'Bacteroides vulgatus', 'Bacteroides coprocola', 'Bacteroides uniformis', 'Prevotella_9 nan', 'Bacteroides nan', 'Phascolarctobacterium faecium', 'Bacteroides thetaiotaomicron', 'Faecalibacterium prausnitzii', 'Prevotella_9 nan', 'Bacteroides coprocola', 'Bacteroides xylanisolvens', 'Bacteroides nan', 'Bacteroides stercoris', 'Bacteroides uniformis', 'Parabacteroides merdae', 'Alistipes putredinis', 'Bacteroides plebeius', 'Ruminococcaceae_ge nan', 'Faecalibacterium CM04-06', 'Sutterella wadsworthensis', 'Prevotella_2 nan', 'Bacteroides fragilis', 'Bacteroides vulgatus', 'Lachnospiraceae_NK4A136_group nan', 'Alloprevotella nan', 'Faecalibacterium nan', 'Bacteroides massiliensis', 'Bacteroides nan', 'Prevotella_9 nan', 'Fusobacterium mortiferum', 'Sutterella wadsworthensis', 'Ruminococcaceae_UCG-002 bacterium', 'Bacteroides caccae', 'Bacteroides uniformis', 'Bacteroides massiliensis', 'Prevotella_9 nan', 'Bacteroides cellulosilyticus', 'Prevotella_9 nan', 'Bacteroides nan', 'Lachnospiraceae_ge nan', 'Lachnoclostridium nan', 'Sutterella nan', 'Agathobacter rectalis', 'Bacteroides caccae', 'Lachnospira nan', 'Parabacteroides distasonis']\n",
    "microbio_names"
   ]
  },
  {
   "cell_type": "code",
   "execution_count": 39,
   "metadata": {
    "slideshow": {
     "slide_type": "fragment"
    }
   },
   "outputs": [
    {
     "name": "stdout",
     "output_type": "stream",
     "text": [
      "time up! \n"
     ]
    }
   ],
   "source": [
    "import utils\n",
    "utils.my_timer(120)"
   ]
  },
  {
   "cell_type": "markdown",
   "metadata": {
    "slideshow": {
     "slide_type": "slide"
    }
   },
   "source": [
    "# 5. 自訂函數\n",
    "\n",
    "重複利用程式碼，Never reinvent the wheels."
   ]
  },
  {
   "cell_type": "markdown",
   "metadata": {
    "slideshow": {
     "slide_type": "fragment"
    }
   },
   "source": [
    "## 5.1 基本語法"
   ]
  },
  {
   "cell_type": "code",
   "execution_count": 2,
   "metadata": {
    "slideshow": {
     "slide_type": "fragment"
    }
   },
   "outputs": [],
   "source": [
    "# define no return\n",
    "\n",
    "\n",
    "\n",
    "\n",
    "\n",
    "# types and excecute\n",
    "\n",
    "\n",
    "\n"
   ]
  },
  {
   "cell_type": "code",
   "execution_count": 47,
   "metadata": {
    "slideshow": {
     "slide_type": "subslide"
    }
   },
   "outputs": [
    {
     "name": "stdout",
     "output_type": "stream",
     "text": [
      "<class 'function'>\n",
      "Hi!\n",
      "真是美好的一天~\n"
     ]
    }
   ],
   "source": [
    "def sayHi():\n",
    "    print('Hi!')\n",
    "    print('真是美好的一天~')\n",
    "\n",
    "print(type(sayHi))\n",
    "sayHi()"
   ]
  },
  {
   "cell_type": "markdown",
   "metadata": {
    "slideshow": {
     "slide_type": "slide"
    }
   },
   "source": [
    "## 5.2 return"
   ]
  },
  {
   "cell_type": "code",
   "execution_count": 163,
   "metadata": {
    "hide_input": true,
    "slideshow": {
     "slide_type": "fragment"
    }
   },
   "outputs": [
    {
     "name": "stdout",
     "output_type": "stream",
     "text": [
      "一個函數:\n"
     ]
    },
    {
     "data": {
      "image/svg+xml": [
       "<?xml version=\"1.0\" encoding=\"UTF-8\" standalone=\"no\"?>\r\n",
       "<!DOCTYPE svg PUBLIC \"-//W3C//DTD SVG 1.1//EN\"\r\n",
       " \"http://www.w3.org/Graphics/SVG/1.1/DTD/svg11.dtd\">\r\n",
       "<!-- Generated by graphviz version 2.38.0 (20140413.2041)\r\n",
       " -->\r\n",
       "<!-- Title: %3 Pages: 1 -->\r\n",
       "<svg width=\"242pt\" height=\"44pt\"\r\n",
       " viewBox=\"0.00 0.00 242.00 44.00\" xmlns=\"http://www.w3.org/2000/svg\" xmlns:xlink=\"http://www.w3.org/1999/xlink\">\r\n",
       "<g id=\"graph0\" class=\"graph\" transform=\"scale(1 1) rotate(0) translate(4 40)\">\r\n",
       "<title>%3</title>\r\n",
       "<polygon fill=\"white\" stroke=\"none\" points=\"-4,4 -4,-40 238,-40 238,4 -4,4\"/>\r\n",
       "<!-- I -->\r\n",
       "<g id=\"node1\" class=\"node\"><title>I</title>\r\n",
       "<ellipse fill=\"none\" stroke=\"black\" cx=\"27\" cy=\"-18\" rx=\"27\" ry=\"18\"/>\r\n",
       "<text text-anchor=\"middle\" x=\"27\" y=\"-14.3\" font-family=\"Times New Roman,serif\" font-size=\"14.00\">輸入</text>\r\n",
       "</g>\r\n",
       "<!-- P -->\r\n",
       "<g id=\"node2\" class=\"node\"><title>P</title>\r\n",
       "<ellipse fill=\"none\" stroke=\"black\" cx=\"117\" cy=\"-18\" rx=\"27\" ry=\"18\"/>\r\n",
       "<text text-anchor=\"middle\" x=\"117\" y=\"-14.3\" font-family=\"Times New Roman,serif\" font-size=\"14.00\">運算</text>\r\n",
       "</g>\r\n",
       "<!-- I&#45;&gt;P -->\r\n",
       "<g id=\"edge1\" class=\"edge\"><title>I&#45;&gt;P</title>\r\n",
       "<path fill=\"none\" stroke=\"black\" d=\"M54.4029,-18C62.3932,-18 71.3106,-18 79.8241,-18\"/>\r\n",
       "<polygon fill=\"black\" stroke=\"black\" points=\"79.919,-21.5001 89.919,-18 79.919,-14.5001 79.919,-21.5001\"/>\r\n",
       "</g>\r\n",
       "<!-- O -->\r\n",
       "<g id=\"node3\" class=\"node\"><title>O</title>\r\n",
       "<ellipse fill=\"none\" stroke=\"red\" cx=\"207\" cy=\"-18\" rx=\"27\" ry=\"18\"/>\r\n",
       "<text text-anchor=\"middle\" x=\"207\" y=\"-14.3\" font-family=\"Times New Roman,serif\" font-size=\"14.00\">輸出</text>\r\n",
       "</g>\r\n",
       "<!-- P&#45;&gt;O -->\r\n",
       "<g id=\"edge2\" class=\"edge\"><title>P&#45;&gt;O</title>\r\n",
       "<path fill=\"none\" stroke=\"black\" d=\"M144.403,-18C152.393,-18 161.311,-18 169.824,-18\"/>\r\n",
       "<polygon fill=\"black\" stroke=\"black\" points=\"169.919,-21.5001 179.919,-18 169.919,-14.5001 169.919,-21.5001\"/>\r\n",
       "</g>\r\n",
       "</g>\r\n",
       "</svg>\r\n"
      ],
      "text/plain": [
       "<graphviz.dot.Digraph at 0x1c4294daa20>"
      ]
     },
     "execution_count": 163,
     "metadata": {},
     "output_type": "execute_result"
    }
   ],
   "source": [
    "d = Digraph()\n",
    "d.attr(rankdir='LR')\n",
    "d.node('I', '輸入')\n",
    "d.node('P', '運算')\n",
    "d.node('O', '輸出',color='red')\n",
    "d.edge('I', 'P')\n",
    "d.edge('P', 'O')\n",
    "print('一個函數:')\n",
    "d"
   ]
  },
  {
   "cell_type": "code",
   "execution_count": 4,
   "metadata": {
    "slideshow": {
     "slide_type": "fragment"
    }
   },
   "outputs": [],
   "source": [
    "# 1 return\n",
    "\n",
    "\n",
    "\n",
    "\n",
    "# multiple return\n",
    "\n",
    "\n",
    "\n"
   ]
  },
  {
   "cell_type": "code",
   "execution_count": null,
   "metadata": {
    "slideshow": {
     "slide_type": "subslide"
    }
   },
   "outputs": [],
   "source": [
    "def sayYay():\n",
    "    print('Yay!')\n",
    "    return 'Yay!'\n",
    "\n",
    "r = sayYay()\n",
    "print(type(r))\n",
    "print(r)"
   ]
  },
  {
   "cell_type": "markdown",
   "metadata": {
    "slideshow": {
     "slide_type": "slide"
    }
   },
   "source": [
    "## 5.3 argument"
   ]
  },
  {
   "cell_type": "code",
   "execution_count": 162,
   "metadata": {
    "hide_input": true,
    "slideshow": {
     "slide_type": "fragment"
    }
   },
   "outputs": [
    {
     "name": "stdout",
     "output_type": "stream",
     "text": [
      "一個函數:\n"
     ]
    },
    {
     "data": {
      "image/svg+xml": [
       "<?xml version=\"1.0\" encoding=\"UTF-8\" standalone=\"no\"?>\r\n",
       "<!DOCTYPE svg PUBLIC \"-//W3C//DTD SVG 1.1//EN\"\r\n",
       " \"http://www.w3.org/Graphics/SVG/1.1/DTD/svg11.dtd\">\r\n",
       "<!-- Generated by graphviz version 2.38.0 (20140413.2041)\r\n",
       " -->\r\n",
       "<!-- Title: %3 Pages: 1 -->\r\n",
       "<svg width=\"242pt\" height=\"44pt\"\r\n",
       " viewBox=\"0.00 0.00 242.00 44.00\" xmlns=\"http://www.w3.org/2000/svg\" xmlns:xlink=\"http://www.w3.org/1999/xlink\">\r\n",
       "<g id=\"graph0\" class=\"graph\" transform=\"scale(1 1) rotate(0) translate(4 40)\">\r\n",
       "<title>%3</title>\r\n",
       "<polygon fill=\"white\" stroke=\"none\" points=\"-4,4 -4,-40 238,-40 238,4 -4,4\"/>\r\n",
       "<!-- I -->\r\n",
       "<g id=\"node1\" class=\"node\"><title>I</title>\r\n",
       "<ellipse fill=\"none\" stroke=\"red\" cx=\"27\" cy=\"-18\" rx=\"27\" ry=\"18\"/>\r\n",
       "<text text-anchor=\"middle\" x=\"27\" y=\"-14.3\" font-family=\"Times New Roman,serif\" font-size=\"14.00\">輸入</text>\r\n",
       "</g>\r\n",
       "<!-- P -->\r\n",
       "<g id=\"node2\" class=\"node\"><title>P</title>\r\n",
       "<ellipse fill=\"none\" stroke=\"black\" cx=\"117\" cy=\"-18\" rx=\"27\" ry=\"18\"/>\r\n",
       "<text text-anchor=\"middle\" x=\"117\" y=\"-14.3\" font-family=\"Times New Roman,serif\" font-size=\"14.00\">運算</text>\r\n",
       "</g>\r\n",
       "<!-- I&#45;&gt;P -->\r\n",
       "<g id=\"edge1\" class=\"edge\"><title>I&#45;&gt;P</title>\r\n",
       "<path fill=\"none\" stroke=\"black\" d=\"M54.4029,-18C62.3932,-18 71.3106,-18 79.8241,-18\"/>\r\n",
       "<polygon fill=\"black\" stroke=\"black\" points=\"79.919,-21.5001 89.919,-18 79.919,-14.5001 79.919,-21.5001\"/>\r\n",
       "</g>\r\n",
       "<!-- O -->\r\n",
       "<g id=\"node3\" class=\"node\"><title>O</title>\r\n",
       "<ellipse fill=\"none\" stroke=\"black\" cx=\"207\" cy=\"-18\" rx=\"27\" ry=\"18\"/>\r\n",
       "<text text-anchor=\"middle\" x=\"207\" y=\"-14.3\" font-family=\"Times New Roman,serif\" font-size=\"14.00\">輸出</text>\r\n",
       "</g>\r\n",
       "<!-- P&#45;&gt;O -->\r\n",
       "<g id=\"edge2\" class=\"edge\"><title>P&#45;&gt;O</title>\r\n",
       "<path fill=\"none\" stroke=\"black\" d=\"M144.403,-18C152.393,-18 161.311,-18 169.824,-18\"/>\r\n",
       "<polygon fill=\"black\" stroke=\"black\" points=\"169.919,-21.5001 179.919,-18 169.919,-14.5001 169.919,-21.5001\"/>\r\n",
       "</g>\r\n",
       "</g>\r\n",
       "</svg>\r\n"
      ],
      "text/plain": [
       "<graphviz.dot.Digraph at 0x1c4294da6d8>"
      ]
     },
     "execution_count": 162,
     "metadata": {},
     "output_type": "execute_result"
    }
   ],
   "source": [
    "d = Digraph()\n",
    "d.attr(rankdir='LR')\n",
    "d.node('I', '輸入',color='red')\n",
    "d.node('P', '運算')\n",
    "d.node('O', '輸出')\n",
    "d.edge('I', 'P')\n",
    "d.edge('P', 'O')\n",
    "print('一個函數:')\n",
    "d"
   ]
  },
  {
   "cell_type": "code",
   "execution_count": 5,
   "metadata": {
    "slideshow": {
     "slide_type": "fragment"
    }
   },
   "outputs": [],
   "source": [
    "# no default value\n",
    "\n",
    "\n",
    "\n",
    "\n",
    "# both\n",
    "\n",
    "\n",
    "\n",
    "# docstring\n",
    "\n",
    "\n"
   ]
  },
  {
   "cell_type": "code",
   "execution_count": 89,
   "metadata": {
    "slideshow": {
     "slide_type": "subslide"
    }
   },
   "outputs": [
    {
     "name": "stdout",
     "output_type": "stream",
     "text": [
      "Checkout! Mary!\n",
      "Checkout! Jack!\n"
     ]
    }
   ],
   "source": [
    "def sayCheckout(name='Mary'):\n",
    "    print(f'Checkout! {name}!')\n",
    "\n",
    "sayCheckout()\n",
    "sayCheckout('Jack')"
   ]
  },
  {
   "cell_type": "code",
   "execution_count": null,
   "metadata": {
    "slideshow": {
     "slide_type": "fragment"
    }
   },
   "outputs": [],
   "source": [
    "def sayCheckout(name1, name2 = 'Mary'):\n",
    "    print(f'Checkout! {name1} and {name2}!')\n",
    "\n",
    "sayCheckout('John')\n",
    "sayCheckout('Jack', 'Jessica')"
   ]
  },
  {
   "cell_type": "markdown",
   "metadata": {
    "slideshow": {
     "slide_type": "slide"
    }
   },
   "source": [
    "## 將找質數打包成函數"
   ]
  },
  {
   "cell_type": "code",
   "execution_count": null,
   "metadata": {
    "slideshow": {
     "slide_type": "fragment"
    }
   },
   "outputs": [],
   "source": [
    "\n",
    "\n",
    "\n",
    "\n",
    "\n"
   ]
  },
  {
   "cell_type": "code",
   "execution_count": null,
   "metadata": {
    "slideshow": {
     "slide_type": "subslide"
    }
   },
   "outputs": [],
   "source": [
    "def find_prime(N):\n",
    "    prime = []\n",
    "    for i in range(2, N):\n",
    "        for j in range(2,i):\n",
    "            if i%j == 0:\n",
    "                break\n",
    "        else:\n",
    "            prime.append(i)\n",
    "    return prime\n",
    "\n",
    "find_prime(120)"
   ]
  },
  {
   "cell_type": "markdown",
   "metadata": {
    "slideshow": {
     "slide_type": "slide"
    }
   },
   "source": [
    "## Quiz\n",
    "\n",
    "<p style=\"font-size:2rem\">你是某某運動中心的行政人員，你現在要計算30天內哪位會員連續來健身的日數最長?以及是連續幾天?<br>\n",
    "以下提供其中5位成員30天內有無來健身的資料，如果當天有來則為True，反之，為False，如下:</p>"
   ]
  },
  {
   "cell_type": "code",
   "execution_count": 75,
   "metadata": {
    "slideshow": {
     "slide_type": "fragment"
    }
   },
   "outputs": [
    {
     "name": "stdout",
     "output_type": "stream",
     "text": [
      "[True, False, True, True, False, False, False, True, True, True, False, True, False, False, False, True, True, True, False, False, True, False, True, False, False, True, True, True, True, False]\n"
     ]
    }
   ],
   "source": [
    "import utils\n",
    "A = utils.sport_record()[0]\n",
    "B = utils.sport_record()[1]\n",
    "C = utils.sport_record()[2]\n",
    "D = utils.sport_record()[3]\n",
    "E = utils.sport_record()[4]\n",
    "print(D)"
   ]
  },
  {
   "cell_type": "markdown",
   "metadata": {
    "slideshow": {
     "slide_type": "fragment"
    }
   },
   "source": [
    "<p style=\"font-size:2rem\">\n",
    "請寫出一個函數，只要輸入如上的資料，就能計算出最長連續來健身的次數。</p>\n",
    "<p style=\"font-size:2rem\">\n",
    "hint: \n",
    "設常數max_period = 0、temp_period = 0，<br>\n",
    "進行for loop，</p>\n",
    "<ul style=\"font-size:2rem\">\n",
    "    <li>loop中碰到True則開始累加temp_period</li>\n",
    "    <li>如果loop中碰到False時，則將temp_period歸零</li>\n",
    "    <li>檢查temp是否大於max，如果是，則更新max</li></ul>\n",
    "<p style=\"font-size:2rem\">\n",
    "輸出max_period\n",
    "</p>"
   ]
  },
  {
   "cell_type": "code",
   "execution_count": null,
   "metadata": {
    "slideshow": {
     "slide_type": "subslide"
    }
   },
   "outputs": [],
   "source": [
    "utils.my_timer(120)"
   ]
  },
  {
   "cell_type": "code",
   "execution_count": null,
   "metadata": {
    "slideshow": {
     "slide_type": "fragment"
    }
   },
   "outputs": [],
   "source": []
  },
  {
   "cell_type": "markdown",
   "metadata": {
    "slideshow": {
     "slide_type": "fragment"
    }
   },
   "source": [
    "# End of Lecture 2"
   ]
  }
 ],
 "metadata": {
  "celltoolbar": "Slideshow",
  "kernelspec": {
   "display_name": "Python 3",
   "language": "python",
   "name": "python3"
  },
  "language_info": {
   "codemirror_mode": {
    "name": "ipython",
    "version": 3
   },
   "file_extension": ".py",
   "mimetype": "text/x-python",
   "name": "python",
   "nbconvert_exporter": "python",
   "pygments_lexer": "ipython3",
   "version": "3.7.1"
  },
  "varInspector": {
   "cols": {
    "lenName": 16,
    "lenType": 16,
    "lenVar": 40
   },
   "kernels_config": {
    "python": {
     "delete_cmd_postfix": "",
     "delete_cmd_prefix": "del ",
     "library": "var_list.py",
     "varRefreshCmd": "print(var_dic_list())"
    },
    "r": {
     "delete_cmd_postfix": ") ",
     "delete_cmd_prefix": "rm(",
     "library": "var_list.r",
     "varRefreshCmd": "cat(var_dic_list()) "
    }
   },
   "oldHeight": 187,
   "position": {
    "height": "40px",
    "left": "1244px",
    "right": "20px",
    "top": "447px",
    "width": "404px"
   },
   "types_to_exclude": [
    "module",
    "function",
    "builtin_function_or_method",
    "instance",
    "_Feature"
   ],
   "varInspector_section_display": "none",
   "window_display": false
  }
 },
 "nbformat": 4,
 "nbformat_minor": 2
}
