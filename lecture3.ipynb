{
 "cells": [
  {
   "cell_type": "code",
   "execution_count": 1,
   "metadata": {
    "init_cell": true,
    "slideshow": {
     "slide_type": "skip"
    }
   },
   "outputs": [
    {
     "data": {
      "text/html": [
       "<style>\n",
       ".my_table th {\n",
       "    font-size:30px\n",
       "}\n",
       ".my_table td {\n",
       "    font-size:24px\n",
       "}\n",
       "\n",
       ".small {\n",
       "    font-size:70%;\n",
       "    line-height: 130%;\n",
       "}\n",
       "</style>\n"
      ],
      "text/plain": [
       "<IPython.core.display.HTML object>"
      ]
     },
     "metadata": {},
     "output_type": "display_data"
    }
   ],
   "source": [
    "%%HTML\n",
    "<style>\n",
    ".my_table th {\n",
    "    font-size:30px\n",
    "}\n",
    ".my_table td {\n",
    "    font-size:24px\n",
    "}\n",
    "\n",
    ".small {\n",
    "    font-size:70%;\n",
    "    line-height: 130%;\n",
    "}\n",
    "</style>"
   ]
  },
  {
   "cell_type": "markdown",
   "metadata": {
    "slideshow": {
     "slide_type": "slide"
    }
   },
   "source": [
    "# Python 基礎教學(2)"
   ]
  },
  {
   "cell_type": "markdown",
   "metadata": {
    "slideshow": {
     "slide_type": "fragment"
    }
   },
   "source": [
    "6. tuple容器\n",
    "7. dict容器\n",
    "8. 錯誤與嘗試\n",
    "9. read write files\n",
    "10. import\n",
    "11. built-in module: os, time, datetime\n",
    "12. The Zen of Python"
   ]
  },
  {
   "cell_type": "markdown",
   "metadata": {
    "slideshow": {
     "slide_type": "slide"
    }
   },
   "source": [
    "## 6. tuple\n",
    "\n",
    "tuple是immutable的list，結束。"
   ]
  },
  {
   "cell_type": "code",
   "execution_count": 3,
   "metadata": {
    "slideshow": {
     "slide_type": "fragment"
    }
   },
   "outputs": [],
   "source": [
    "# create tuple and show immutability\n",
    "\n",
    "\n",
    "\n",
    "# slicing\n",
    "\n",
    "\n",
    "\n",
    "\n",
    "# operator\n",
    "\n",
    "\n",
    "\n"
   ]
  },
  {
   "cell_type": "markdown",
   "metadata": {
    "slideshow": {
     "slide_type": "slide"
    }
   },
   "source": [
    "## 7. dict\n",
    "用key來取代list的index。"
   ]
  },
  {
   "cell_type": "code",
   "execution_count": 4,
   "metadata": {
    "slideshow": {
     "slide_type": "fragment"
    }
   },
   "outputs": [],
   "source": [
    "# store example list version\n",
    "\n",
    "\n",
    "\n",
    "# dict version\n",
    "\n",
    "\n",
    "\n",
    "# dict constructor\n",
    "\n",
    "\n",
    "\n"
   ]
  },
  {
   "cell_type": "code",
   "execution_count": null,
   "metadata": {
    "slideshow": {
     "slide_type": "subslide"
    }
   },
   "outputs": [],
   "source": [
    "my_store = ['蘋果', 20, '台幣']\n",
    "print(f'賣{my_store[0]}一粒{my_store[1]}{my_store[2]}!')"
   ]
  },
  {
   "cell_type": "code",
   "execution_count": null,
   "metadata": {
    "slideshow": {
     "slide_type": "subslide"
    }
   },
   "outputs": [],
   "source": [
    "my_store = {'商品':'蘋果', '價格':20, '貨幣':'台幣'}\n",
    "print(f'賣{my_store[\"商品\"]}一粒{my_store[\"價格\"]}{my_store[\"貨幣\"]}!')"
   ]
  },
  {
   "cell_type": "markdown",
   "metadata": {
    "slideshow": {
     "slide_type": "slide"
    }
   },
   "source": [
    "## 7.1 新增或修改dict"
   ]
  },
  {
   "cell_type": "code",
   "execution_count": null,
   "metadata": {
    "slideshow": {
     "slide_type": "fragment"
    }
   },
   "outputs": [],
   "source": [
    "\n",
    "\n",
    "\n",
    "\n",
    "\n"
   ]
  },
  {
   "cell_type": "code",
   "execution_count": null,
   "metadata": {
    "slideshow": {
     "slide_type": "subslide"
    }
   },
   "outputs": [],
   "source": [
    "my_store = {'商品':'蘋果', '價格':20, '貨幣':'台幣'}\n",
    "\n",
    "my_store['商品'] = '荔枝' # 如果key在原本的dict裡則會修改\n",
    "my_store['數量'] = 10 # 如果key不在原本的dict裡則會直接新增\n",
    "\n",
    "print(my_store)"
   ]
  },
  {
   "cell_type": "markdown",
   "metadata": {
    "slideshow": {
     "slide_type": "slide"
    }
   },
   "source": [
    "## 7.2 dict方法與運算子"
   ]
  },
  {
   "cell_type": "code",
   "execution_count": 3,
   "metadata": {
    "slideshow": {
     "slide_type": "fragment"
    }
   },
   "outputs": [],
   "source": [
    "# in\n",
    "\n",
    "\n",
    "\n",
    "\n",
    "# keys, items, values\n",
    "\n",
    "\n"
   ]
  },
  {
   "cell_type": "markdown",
   "metadata": {
    "slideshow": {
     "slide_type": "slide"
    }
   },
   "source": [
    "## 7.3 loop dict\n",
    "key or value?"
   ]
  },
  {
   "cell_type": "code",
   "execution_count": null,
   "metadata": {
    "slideshow": {
     "slide_type": "fragment"
    }
   },
   "outputs": [],
   "source": [
    "\n",
    "\n",
    "\n",
    "\n"
   ]
  },
  {
   "cell_type": "markdown",
   "metadata": {
    "slideshow": {
     "slide_type": "slide"
    }
   },
   "source": [
    "## Quiz\n",
    "\n",
    "有三個變數，a為list、b為dict、c為tuple:\n",
    "\n",
    "1. a, b, c可以使用[i:j:k]進行slice嗎?\n",
    "2. a, b, c某位置的value一旦被設定之後，可以修改嗎?怎麼修改?\n",
    "3. a, b, c如果要新增新的內容進去，要怎麼使用?"
   ]
  },
  {
   "cell_type": "code",
   "execution_count": 2,
   "metadata": {
    "slideshow": {
     "slide_type": "fragment"
    }
   },
   "outputs": [
    {
     "name": "stdout",
     "output_type": "stream",
     "text": [
      "time up! \n"
     ]
    }
   ],
   "source": [
    "import utils\n",
    "utils.my_timer(60)"
   ]
  },
  {
   "cell_type": "markdown",
   "metadata": {
    "slideshow": {
     "slide_type": "slide"
    }
   },
   "source": [
    "## 8. Python的嘗試與錯誤\n",
    "\n",
    "fast fail in python"
   ]
  },
  {
   "cell_type": "code",
   "execution_count": 13,
   "metadata": {
    "slideshow": {
     "slide_type": "fragment"
    }
   },
   "outputs": [],
   "source": [
    "# trigger some errors\n",
    "# 20/0\n",
    "\n",
    "\n",
    "# try except\n",
    "\n"
   ]
  },
  {
   "cell_type": "code",
   "execution_count": 7,
   "metadata": {
    "collapsed": true,
    "hide_input": true,
    "slideshow": {
     "slide_type": "fragment"
    }
   },
   "outputs": [
    {
     "data": {
      "text/html": [
       "<iframe src=\"https://docs.python.org/3/library/exceptions.html\" width=\"1200\" height=\"900\"></iframe>\n"
      ],
      "text/plain": [
       "<IPython.core.display.HTML object>"
      ]
     },
     "metadata": {},
     "output_type": "display_data"
    }
   ],
   "source": [
    "%%html\n",
    "<iframe src=\"https://docs.python.org/3/library/exceptions.html\" width=\"1200\" height=\"900\"></iframe>"
   ]
  },
  {
   "cell_type": "code",
   "execution_count": null,
   "metadata": {
    "slideshow": {
     "slide_type": "subslide"
    }
   },
   "outputs": [],
   "source": [
    "# "
   ]
  },
  {
   "cell_type": "markdown",
   "metadata": {
    "slideshow": {
     "slide_type": "slide"
    }
   },
   "source": [
    "## 9. 檔案讀寫\n",
    "\n",
    "mode: r, w, a <br>\n",
    "使用with，就不怕忘記close"
   ]
  },
  {
   "cell_type": "code",
   "execution_count": 4,
   "metadata": {
    "slideshow": {
     "slide_type": "fragment"
    }
   },
   "outputs": [],
   "source": [
    "# read with r\n",
    "\n",
    "\n",
    "# write with w\n",
    "\n",
    "\n",
    "# write with a\n",
    "\n"
   ]
  },
  {
   "cell_type": "code",
   "execution_count": null,
   "metadata": {
    "slideshow": {
     "slide_type": "subslide"
    }
   },
   "outputs": [],
   "source": [
    "with open('django_flask.svg','r') as f:\n",
    "    print(f.read)"
   ]
  },
  {
   "cell_type": "code",
   "execution_count": null,
   "metadata": {
    "slideshow": {
     "slide_type": "fragment"
    }
   },
   "outputs": [],
   "source": [
    "s = '''\n",
    "Python allows you to read, write and delete files\n",
    "Use the function open(\"filename\",\"w+\") to create a file. The + tells the python compiler to create a file if it does not exist\n",
    "To append data to an existing file use the command open(\"Filename\", \"a\")\n",
    "Use the read function to read the ENTIRE contents of a file\n",
    "'''\n",
    "\n",
    "with open('test2.txt','w') as f:\n",
    "    f.write(s)\n",
    "    \n",
    "with open('test2.txt','a',encoding='utf8') as f:\n",
    "    f.write('大家好'.center(100,'*'))\n"
   ]
  },
  {
   "cell_type": "markdown",
   "metadata": {
    "slideshow": {
     "slide_type": "slide"
    }
   },
   "source": [
    "## 10. import\n",
    "\n",
    "使用已經寫好的python檔案"
   ]
  },
  {
   "cell_type": "markdown",
   "metadata": {
    "slideshow": {
     "slide_type": "fragment"
    }
   },
   "source": [
    "demo in spyder"
   ]
  },
  {
   "cell_type": "code",
   "execution_count": null,
   "metadata": {
    "slideshow": {
     "slide_type": "notes"
    }
   },
   "outputs": [],
   "source": [
    "import utils\n",
    "import utils as ut\n",
    "from utils import *"
   ]
  },
  {
   "cell_type": "markdown",
   "metadata": {
    "slideshow": {
     "slide_type": "slide"
    }
   },
   "source": [
    "## 10.1 Common used built-in modules\n",
    "\n",
    "<br><br>\n",
    "\n",
    "<table class='my_table'>\n",
    "  <tr>\n",
    "    <th>名稱</th>\n",
    "    <th>說明</th>\n",
    "  </tr>\n",
    "  <tr>\n",
    "    <td>time</td>\n",
    "    <td>基本時間 (主要以unix time呈現)</td>\n",
    "  </tr>\n",
    "  <tr>\n",
    "    <td>datetime</td>\n",
    "    <td>日期與時間</td>\n",
    "  </tr>\n",
    "  <tr>\n",
    "    <td>calendar</td>\n",
    "    <td>日曆</td>\n",
    "  </tr>\n",
    "  <tr>\n",
    "    <td>os</td>\n",
    "    <td>操作系統文件、目錄</td>\n",
    "  </tr>\n",
    "  <tr>\n",
    "    <td>sys</td>\n",
    "    <td>系統相關的參數以及函式</td>\n",
    "  </tr>\n",
    "  <tr>\n",
    "    <td>logging</td>\n",
    "    <td>紀錄系統</td>\n",
    "  </tr>\n",
    "  <tr>\n",
    "    <td>math</td>\n",
    "    <td>數學運算</td>\n",
    "  </tr>\n",
    "  <tr>\n",
    "    <td>random</td>\n",
    "    <td>隨機數</td>\n",
    "  </tr>\n",
    "  <tr>\n",
    "    <td>re</td>\n",
    "    <td>正規表達式</td>\n",
    "  </tr>\n",
    "  <tr>\n",
    "    <td>collections</td>\n",
    "    <td>提供內建容器(list、dict、set、tuple)外的替代選擇</td>\n",
    "  </tr>\n",
    "</table>\n",
    "\n",
    "And ..."
   ]
  },
  {
   "cell_type": "code",
   "execution_count": 5,
   "metadata": {
    "slideshow": {
     "slide_type": "slide"
    }
   },
   "outputs": [],
   "source": [
    "# quick demo calendar by asking google\n",
    "\n",
    "\n",
    "# demo math, random\n",
    "\n"
   ]
  },
  {
   "cell_type": "markdown",
   "metadata": {
    "slideshow": {
     "slide_type": "slide"
    }
   },
   "source": [
    "## 10.2 Third party modules\n",
    "\n",
    "pip - a python package management system\n",
    "\n",
    "conda install\n",
    "\n",
    "unofficial packages:\n",
    "https://www.lfd.uci.edu/~gohlke/pythonlibs/"
   ]
  },
  {
   "cell_type": "code",
   "execution_count": 6,
   "metadata": {
    "slideshow": {
     "slide_type": "fragment"
    }
   },
   "outputs": [],
   "source": [
    "# how to install pkg, update, uninstall, particular version, ...\n",
    "\n",
    "\n",
    "# Demo in terminal\n",
    "\n"
   ]
  },
  {
   "cell_type": "markdown",
   "metadata": {
    "slideshow": {
     "slide_type": "slide"
    }
   },
   "source": [
    "## Demo\n",
    "使用random套件寫出擲骰子遊戲"
   ]
  },
  {
   "cell_type": "code",
   "execution_count": null,
   "metadata": {
    "slideshow": {
     "slide_type": "fragment"
    }
   },
   "outputs": [],
   "source": [
    "# 擲骰子，從1~6中，隨機取一個數值\n",
    "\n",
    "\n",
    "# 接收user input\n",
    "\n",
    "\n",
    "# 檢查user input，檢查是否合理\n",
    "\n",
    "\n",
    "# 呈現結果\n",
    "\n"
   ]
  },
  {
   "cell_type": "code",
   "execution_count": 134,
   "metadata": {
    "slideshow": {
     "slide_type": "notes"
    }
   },
   "outputs": [
    {
     "name": "stdout",
     "output_type": "stream",
     "text": [
      "Your bet? 1: for 大, 0: for 小    2\n",
      "Invalid input detected, try again\n",
      "Your bet? 1: for 大, 0: for 小   0\n",
      "The result of dice is ... 3\n",
      "Your bet is 小\n",
      "You win\n"
     ]
    }
   ],
   "source": [
    "import random\n",
    "n = random.randint(1,6)\n",
    "\n",
    "user_input = input('Your bet? 1: for 大, 0: for 小    ' )\n",
    "    \n",
    "while user_input not in ['0','1']:\n",
    "    print('Invalid input detected, try again')\n",
    "    user_input = input('Your bet? 1: for 大, 0: for 小   ' )\n",
    "\n",
    "print(f'The result of dice is ... {n}')\n",
    "\n",
    "if user_input == '1':\n",
    "    bet = '大'\n",
    "else:\n",
    "    bet = '小'\n",
    "print(f'Your bet is {bet}')\n",
    "\n",
    "if user_input == '1':\n",
    "    if n in [4,5,6]:\n",
    "        print('You win')\n",
    "    else:\n",
    "        print('You lose')\n",
    "else:\n",
    "    if n in [1,2,3]:\n",
    "        print('You win')\n",
    "    else:\n",
    "        print('You lose')"
   ]
  },
  {
   "cell_type": "markdown",
   "metadata": {
    "slideshow": {
     "slide_type": "slide"
    }
   },
   "source": [
    "## Quiz 寫出剪刀石頭布的遊戲\n",
    "\n",
    "參考擲骰子。"
   ]
  },
  {
   "cell_type": "markdown",
   "metadata": {
    "slideshow": {
     "slide_type": "slide"
    }
   },
   "source": [
    "# 11. built-in modules os, time, datatime"
   ]
  },
  {
   "cell_type": "markdown",
   "metadata": {
    "slideshow": {
     "slide_type": "slide"
    }
   },
   "source": [
    "## 11.1 os\n",
    "操作系統文件、目錄，包含: 變更工作目錄、刪除、新增資料夾、檢查有無檔案、某目錄下有何檔案...\n",
    "\n",
    "方法|描述\n",
    ":---|---:\n",
    "os.getcwd|現在工作目錄\n",
    "os.chdir|變更工作目錄\n",
    "os.listdir|列出目錄內的檔案\n",
    "os.mkdir|新增目錄\n",
    "os.path.isfile|是否有檔案\n",
    "os.path.isdir|是否有目錄\n",
    "os.remove|刪除檔案\n",
    "os.removedirs|刪除目錄\n",
    "\n",
    "<p style='font-size:12px;text-align: right'>(複製、移動檔案需要使用shutil)</p>"
   ]
  },
  {
   "cell_type": "code",
   "execution_count": null,
   "metadata": {
    "slideshow": {
     "slide_type": "fragment"
    }
   },
   "outputs": [],
   "source": []
  },
  {
   "cell_type": "markdown",
   "metadata": {
    "slideshow": {
     "slide_type": "slide"
    }
   },
   "source": [
    "## 11.2 time\n",
    "\n",
    "時間，以unix time顯示\n",
    "\n",
    "方法|描述\n",
    ":---|---:\n",
    "time.time|顯示現在的unix time\n",
    "time.sleep|睡覺"
   ]
  },
  {
   "cell_type": "code",
   "execution_count": 24,
   "metadata": {
    "slideshow": {
     "slide_type": "fragment"
    }
   },
   "outputs": [],
   "source": [
    "# check execution time\n",
    "\n",
    "\n",
    "# sleep\n"
   ]
  },
  {
   "cell_type": "markdown",
   "metadata": {
    "slideshow": {
     "slide_type": "slide"
    }
   },
   "source": [
    "## 11.3 datetime\n",
    "\n",
    "datetime.datetime.now <br>\n",
    "datetime.date.today <br>\n",
    "datetime.timedelta\n",
    "\n",
    "year, month, day, minute, second, weekday"
   ]
  },
  {
   "cell_type": "code",
   "execution_count": 69,
   "metadata": {
    "slideshow": {
     "slide_type": "fragment"
    }
   },
   "outputs": [
    {
     "data": {
      "text/plain": [
       "datetime.date(1882, 7, 10)"
      ]
     },
     "execution_count": 69,
     "metadata": {},
     "output_type": "execute_result"
    }
   ],
   "source": [
    "# 基本操作\n",
    "\n",
    "# 50000天之後是禮拜幾\n",
    "\n",
    "\n",
    "# 距離今天50000天之前是禮拜幾"
   ]
  },
  {
   "cell_type": "markdown",
   "metadata": {
    "slideshow": {
     "slide_type": "slide"
    }
   },
   "source": [
    "### Create Scheduler by time and datetime"
   ]
  },
  {
   "cell_type": "code",
   "execution_count": 30,
   "metadata": {
    "slideshow": {
     "slide_type": "fragment"
    }
   },
   "outputs": [],
   "source": [
    "import datetime\n",
    "import time\n",
    "\n",
    "\n",
    "\n",
    "\n",
    "\n",
    "\n",
    "\n",
    "\n"
   ]
  },
  {
   "cell_type": "markdown",
   "metadata": {
    "slideshow": {
     "slide_type": "slide"
    }
   },
   "source": [
    "## Practice 生產大量檔案與資料夾\n",
    "\n",
    "在D槽新增目錄，\"報名學員資料\"，在\"D:\\\\報名學員資料\"內新增200個目錄，每個目錄的名稱為學員姓名。\n",
    "在每個學員的目錄底下，新增兩個檔案，\"自我介紹.txt\"、\"個人隱私資料.txt\"。\n",
    "\n",
    "\"自我介紹.txt\"內容為:\n",
    "    \n",
    "    我是{某某某}來自台灣，我的名字是隨機產生的!\\n名字來自:中文姓名生產器: http://www.richyli.com/name/index.asp\n",
    "\n",
    "\"個人隱私資料.txt\"內容為:\n",
    "\n",
    "    姓名: {某某某}\\n電話: {09開頭的亂數手機號碼}\\n身分證字號: {XXX}\n",
    "\n",
    "<br><br>\n",
    "*姓名與身分證字號如下，手機號碼請自己生*<br>\n",
    "Hint: n = random.randint(1,9)，'09'+=str(n)，loop 8次\n",
    "資料來源:\n",
    "中文姓名生產器: http://www.richyli.com/name/index.asp"
   ]
  },
  {
   "cell_type": "code",
   "execution_count": 71,
   "metadata": {
    "slideshow": {
     "slide_type": "slide"
    }
   },
   "outputs": [],
   "source": [
    "with open('random_names.txt','r',encoding='utf8') as f:\n",
    "    random_names = f.read()\n",
    "    \n",
    "names = []\n",
    "ids = []\n",
    "for i in random_names.split('\\n'):\n",
    "    names.append(i.split(',')[0])\n",
    "    ids.append(i.split(',')[1][1:])"
   ]
  },
  {
   "cell_type": "code",
   "execution_count": 74,
   "metadata": {
    "slideshow": {
     "slide_type": "fragment"
    }
   },
   "outputs": [
    {
     "name": "stdout",
     "output_type": "stream",
     "text": [
      "陳其云 : E296081174\n",
      "李建霖 : C196893974\n",
      "林佩南 : E197838979\n",
      "陳盈和 : H199322137\n",
      "張懿菁 : F199961632\n",
      "林旭均 : F293470956\n",
      "潘協云 : C291395055\n",
      "張希姍 : H295425139\n",
      "黃淑芸 : H198075068\n",
      "林建羽 : E291804140\n"
     ]
    }
   ],
   "source": [
    "for n, i in zip(names[10:20], ids[10:20]):\n",
    "    print(f'{n} : {i}')"
   ]
  },
  {
   "cell_type": "code",
   "execution_count": 37,
   "metadata": {
    "slideshow": {
     "slide_type": "skip"
    }
   },
   "outputs": [
    {
     "data": {
      "text/plain": [
       "'0918112858'"
      ]
     },
     "execution_count": 37,
     "metadata": {},
     "output_type": "execute_result"
    }
   ],
   "source": [
    "import random\n",
    "\n",
    "rand_phone = '09'\n",
    "for i in range(8):\n",
    "    rand_phone += str(random.randint(1,9))\n",
    "\n",
    "rand_phone"
   ]
  },
  {
   "cell_type": "markdown",
   "metadata": {
    "slideshow": {
     "slide_type": "slide"
    }
   },
   "source": [
    "## 請加油"
   ]
  },
  {
   "cell_type": "code",
   "execution_count": null,
   "metadata": {
    "slideshow": {
     "slide_type": "fragment"
    }
   },
   "outputs": [],
   "source": [
    "utils.my_timer(60)"
   ]
  },
  {
   "cell_type": "markdown",
   "metadata": {
    "slideshow": {
     "slide_type": "slide"
    }
   },
   "source": [
    "# Zen of Python\n",
    "### Python之禪\n",
    "\n",
    "python的核心精神"
   ]
  },
  {
   "cell_type": "code",
   "execution_count": 31,
   "metadata": {
    "slideshow": {
     "slide_type": "fragment"
    }
   },
   "outputs": [
    {
     "name": "stdout",
     "output_type": "stream",
     "text": [
      "The Zen of Python, by Tim Peters\n",
      "\n",
      "Beautiful is better than ugly.\n",
      "Explicit is better than implicit.\n",
      "Simple is better than complex.\n",
      "Complex is better than complicated.\n",
      "Flat is better than nested.\n",
      "Sparse is better than dense.\n",
      "Readability counts.\n",
      "Special cases aren't special enough to break the rules.\n",
      "Although practicality beats purity.\n",
      "Errors should never pass silently.\n",
      "Unless explicitly silenced.\n",
      "In the face of ambiguity, refuse the temptation to guess.\n",
      "There should be one-- and preferably only one --obvious way to do it.\n",
      "Although that way may not be obvious at first unless you're Dutch.\n",
      "Now is better than never.\n",
      "Although never is often better than *right* now.\n",
      "If the implementation is hard to explain, it's a bad idea.\n",
      "If the implementation is easy to explain, it may be a good idea.\n",
      "Namespaces are one honking great idea -- let's do more of those!\n"
     ]
    }
   ],
   "source": [
    "import this"
   ]
  },
  {
   "cell_type": "markdown",
   "metadata": {
    "slideshow": {
     "slide_type": "subslide"
    }
   },
   "source": [
    "##### Beautiful is better than ugly.\n",
    "##### Explicit is better than implicit.\n",
    "##### Simple is better than complex.\n",
    "##### Complex is better than complicated.\n",
    "##### Flat is better than nested.\n",
    "##### Sparse is better than dense.\n",
    "##### Readability counts. "
   ]
  },
  {
   "cell_type": "markdown",
   "metadata": {
    "slideshow": {
     "slide_type": "subslide"
    }
   },
   "source": [
    "##### Special cases aren't special enough to break the rules.\n",
    "##### Although practicality beats purity.\n",
    "##### Errors should never pass silently.\n",
    "##### Unless explicitly silenced.\n",
    "##### In the face of ambiguity, refuse the temptation to guess.\n",
    "##### There should be one-- and preferably only one --obvious way to do it.\n",
    "##### Although that way may not be obvious at first unless you're Dutch."
   ]
  },
  {
   "cell_type": "markdown",
   "metadata": {
    "slideshow": {
     "slide_type": "subslide"
    }
   },
   "source": [
    "##### Now is better than never.\n",
    "##### Although never is often better than *right* now.\n",
    "##### If the implementation is hard to explain, it's a bad idea.\n",
    "##### If the implementation is easy to explain, it may be a good idea.\n",
    "##### Namespaces are one honking great idea -- let's do more of those!"
   ]
  },
  {
   "cell_type": "markdown",
   "metadata": {
    "slideshow": {
     "slide_type": "subslide"
    }
   },
   "source": [
    "# End of Lecture3"
   ]
  }
 ],
 "metadata": {
  "celltoolbar": "Slideshow",
  "kernelspec": {
   "display_name": "Python 3",
   "language": "python",
   "name": "python3"
  },
  "language_info": {
   "codemirror_mode": {
    "name": "ipython",
    "version": 3
   },
   "file_extension": ".py",
   "mimetype": "text/x-python",
   "name": "python",
   "nbconvert_exporter": "python",
   "pygments_lexer": "ipython3",
   "version": "3.7.1"
  },
  "varInspector": {
   "cols": {
    "lenName": 16,
    "lenType": 16,
    "lenVar": 40
   },
   "kernels_config": {
    "python": {
     "delete_cmd_postfix": "",
     "delete_cmd_prefix": "del ",
     "library": "var_list.py",
     "varRefreshCmd": "print(var_dic_list())"
    },
    "r": {
     "delete_cmd_postfix": ") ",
     "delete_cmd_prefix": "rm(",
     "library": "var_list.r",
     "varRefreshCmd": "cat(var_dic_list()) "
    }
   },
   "types_to_exclude": [
    "module",
    "function",
    "builtin_function_or_method",
    "instance",
    "_Feature"
   ],
   "window_display": false
  }
 },
 "nbformat": 4,
 "nbformat_minor": 2
}
